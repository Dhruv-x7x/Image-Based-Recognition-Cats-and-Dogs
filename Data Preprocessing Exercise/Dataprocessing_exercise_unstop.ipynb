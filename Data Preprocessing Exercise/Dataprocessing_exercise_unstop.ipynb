{
  "nbformat": 4,
  "nbformat_minor": 0,
  "metadata": {
    "colab": {
      "provenance": []
    },
    "kernelspec": {
      "name": "python3",
      "display_name": "Python 3"
    },
    "language_info": {
      "name": "python"
    }
  },
  "cells": [
    {
      "cell_type": "markdown",
      "source": [
        "## Data Processing Exercise\n",
        "---\n",
        "Dhruv Meena"
      ],
      "metadata": {
        "id": "uOpO8pec1RLW"
      }
    },
    {
      "cell_type": "markdown",
      "source": [
        "# Importing Libraries"
      ],
      "metadata": {
        "id": "xAzw-Cqr1XrT"
      }
    },
    {
      "cell_type": "code",
      "execution_count": 1,
      "metadata": {
        "id": "M7rB5oab1BYM"
      },
      "outputs": [],
      "source": [
        "import numpy as np\n",
        "import pandas as pd\n",
        "import matplotlib.pyplot as plt\n",
        "import seaborn as sns"
      ]
    },
    {
      "cell_type": "markdown",
      "source": [
        "# Importing Dataset"
      ],
      "metadata": {
        "id": "s3ujIOHv1m66"
      }
    },
    {
      "cell_type": "code",
      "source": [
        "COVID_DATA = pd.read_csv('/content/Covid_Data_new.csv')"
      ],
      "metadata": {
        "id": "uO6gZp9R1jpM"
      },
      "execution_count": 2,
      "outputs": []
    },
    {
      "cell_type": "code",
      "source": [
        "display(COVID_DATA)"
      ],
      "metadata": {
        "colab": {
          "base_uri": "https://localhost:8080/",
          "height": 423
        },
        "id": "zNB08Lsp2WOm",
        "outputId": "e0b5b584-fddb-45bc-c510-b0a867fddd84"
      },
      "execution_count": 3,
      "outputs": [
        {
          "output_type": "display_data",
          "data": {
            "text/plain": [
              "     age body_temperature chronic_disease breathing_issue  \\\n",
              "0   10.0           Normal              no              no   \n",
              "1   12.0           Normal              no              no   \n",
              "2   15.0           Normal              no              no   \n",
              "3   10.0           Normal              no              no   \n",
              "4   13.0         Moderate              no              no   \n",
              "..   ...              ...             ...             ...   \n",
              "65  86.0             High              no             yes   \n",
              "66  61.0         Moderate              no             yes   \n",
              "67  94.0             High             yes             yes   \n",
              "68  81.0             High             yes             yes   \n",
              "69  76.0             High             yes             yes   \n",
              "\n",
              "    Blood O2 Level in Percentage Needed Hospitalization  \n",
              "0                           97.0                     No  \n",
              "1                           97.0                     No  \n",
              "2                           94.0                     No  \n",
              "3                           97.0                     No  \n",
              "4                           94.0                     No  \n",
              "..                           ...                    ...  \n",
              "65                          76.0                    Yes  \n",
              "66                          90.0                     No  \n",
              "67                          64.0                    Yes  \n",
              "68                          75.0                    Yes  \n",
              "69                          80.0                    Yes  \n",
              "\n",
              "[70 rows x 6 columns]"
            ],
            "text/html": [
              "\n",
              "  <div id=\"df-d2e3c9f2-5687-40d5-b27d-8d1eb41d4a25\" class=\"colab-df-container\">\n",
              "    <div>\n",
              "<style scoped>\n",
              "    .dataframe tbody tr th:only-of-type {\n",
              "        vertical-align: middle;\n",
              "    }\n",
              "\n",
              "    .dataframe tbody tr th {\n",
              "        vertical-align: top;\n",
              "    }\n",
              "\n",
              "    .dataframe thead th {\n",
              "        text-align: right;\n",
              "    }\n",
              "</style>\n",
              "<table border=\"1\" class=\"dataframe\">\n",
              "  <thead>\n",
              "    <tr style=\"text-align: right;\">\n",
              "      <th></th>\n",
              "      <th>age</th>\n",
              "      <th>body_temperature</th>\n",
              "      <th>chronic_disease</th>\n",
              "      <th>breathing_issue</th>\n",
              "      <th>Blood O2 Level in Percentage</th>\n",
              "      <th>Needed Hospitalization</th>\n",
              "    </tr>\n",
              "  </thead>\n",
              "  <tbody>\n",
              "    <tr>\n",
              "      <th>0</th>\n",
              "      <td>10.0</td>\n",
              "      <td>Normal</td>\n",
              "      <td>no</td>\n",
              "      <td>no</td>\n",
              "      <td>97.0</td>\n",
              "      <td>No</td>\n",
              "    </tr>\n",
              "    <tr>\n",
              "      <th>1</th>\n",
              "      <td>12.0</td>\n",
              "      <td>Normal</td>\n",
              "      <td>no</td>\n",
              "      <td>no</td>\n",
              "      <td>97.0</td>\n",
              "      <td>No</td>\n",
              "    </tr>\n",
              "    <tr>\n",
              "      <th>2</th>\n",
              "      <td>15.0</td>\n",
              "      <td>Normal</td>\n",
              "      <td>no</td>\n",
              "      <td>no</td>\n",
              "      <td>94.0</td>\n",
              "      <td>No</td>\n",
              "    </tr>\n",
              "    <tr>\n",
              "      <th>3</th>\n",
              "      <td>10.0</td>\n",
              "      <td>Normal</td>\n",
              "      <td>no</td>\n",
              "      <td>no</td>\n",
              "      <td>97.0</td>\n",
              "      <td>No</td>\n",
              "    </tr>\n",
              "    <tr>\n",
              "      <th>4</th>\n",
              "      <td>13.0</td>\n",
              "      <td>Moderate</td>\n",
              "      <td>no</td>\n",
              "      <td>no</td>\n",
              "      <td>94.0</td>\n",
              "      <td>No</td>\n",
              "    </tr>\n",
              "    <tr>\n",
              "      <th>...</th>\n",
              "      <td>...</td>\n",
              "      <td>...</td>\n",
              "      <td>...</td>\n",
              "      <td>...</td>\n",
              "      <td>...</td>\n",
              "      <td>...</td>\n",
              "    </tr>\n",
              "    <tr>\n",
              "      <th>65</th>\n",
              "      <td>86.0</td>\n",
              "      <td>High</td>\n",
              "      <td>no</td>\n",
              "      <td>yes</td>\n",
              "      <td>76.0</td>\n",
              "      <td>Yes</td>\n",
              "    </tr>\n",
              "    <tr>\n",
              "      <th>66</th>\n",
              "      <td>61.0</td>\n",
              "      <td>Moderate</td>\n",
              "      <td>no</td>\n",
              "      <td>yes</td>\n",
              "      <td>90.0</td>\n",
              "      <td>No</td>\n",
              "    </tr>\n",
              "    <tr>\n",
              "      <th>67</th>\n",
              "      <td>94.0</td>\n",
              "      <td>High</td>\n",
              "      <td>yes</td>\n",
              "      <td>yes</td>\n",
              "      <td>64.0</td>\n",
              "      <td>Yes</td>\n",
              "    </tr>\n",
              "    <tr>\n",
              "      <th>68</th>\n",
              "      <td>81.0</td>\n",
              "      <td>High</td>\n",
              "      <td>yes</td>\n",
              "      <td>yes</td>\n",
              "      <td>75.0</td>\n",
              "      <td>Yes</td>\n",
              "    </tr>\n",
              "    <tr>\n",
              "      <th>69</th>\n",
              "      <td>76.0</td>\n",
              "      <td>High</td>\n",
              "      <td>yes</td>\n",
              "      <td>yes</td>\n",
              "      <td>80.0</td>\n",
              "      <td>Yes</td>\n",
              "    </tr>\n",
              "  </tbody>\n",
              "</table>\n",
              "<p>70 rows × 6 columns</p>\n",
              "</div>\n",
              "    <div class=\"colab-df-buttons\">\n",
              "\n",
              "  <div class=\"colab-df-container\">\n",
              "    <button class=\"colab-df-convert\" onclick=\"convertToInteractive('df-d2e3c9f2-5687-40d5-b27d-8d1eb41d4a25')\"\n",
              "            title=\"Convert this dataframe to an interactive table.\"\n",
              "            style=\"display:none;\">\n",
              "\n",
              "  <svg xmlns=\"http://www.w3.org/2000/svg\" height=\"24px\" viewBox=\"0 -960 960 960\">\n",
              "    <path d=\"M120-120v-720h720v720H120Zm60-500h600v-160H180v160Zm220 220h160v-160H400v160Zm0 220h160v-160H400v160ZM180-400h160v-160H180v160Zm440 0h160v-160H620v160ZM180-180h160v-160H180v160Zm440 0h160v-160H620v160Z\"/>\n",
              "  </svg>\n",
              "    </button>\n",
              "\n",
              "  <style>\n",
              "    .colab-df-container {\n",
              "      display:flex;\n",
              "      gap: 12px;\n",
              "    }\n",
              "\n",
              "    .colab-df-convert {\n",
              "      background-color: #E8F0FE;\n",
              "      border: none;\n",
              "      border-radius: 50%;\n",
              "      cursor: pointer;\n",
              "      display: none;\n",
              "      fill: #1967D2;\n",
              "      height: 32px;\n",
              "      padding: 0 0 0 0;\n",
              "      width: 32px;\n",
              "    }\n",
              "\n",
              "    .colab-df-convert:hover {\n",
              "      background-color: #E2EBFA;\n",
              "      box-shadow: 0px 1px 2px rgba(60, 64, 67, 0.3), 0px 1px 3px 1px rgba(60, 64, 67, 0.15);\n",
              "      fill: #174EA6;\n",
              "    }\n",
              "\n",
              "    .colab-df-buttons div {\n",
              "      margin-bottom: 4px;\n",
              "    }\n",
              "\n",
              "    [theme=dark] .colab-df-convert {\n",
              "      background-color: #3B4455;\n",
              "      fill: #D2E3FC;\n",
              "    }\n",
              "\n",
              "    [theme=dark] .colab-df-convert:hover {\n",
              "      background-color: #434B5C;\n",
              "      box-shadow: 0px 1px 3px 1px rgba(0, 0, 0, 0.15);\n",
              "      filter: drop-shadow(0px 1px 2px rgba(0, 0, 0, 0.3));\n",
              "      fill: #FFFFFF;\n",
              "    }\n",
              "  </style>\n",
              "\n",
              "    <script>\n",
              "      const buttonEl =\n",
              "        document.querySelector('#df-d2e3c9f2-5687-40d5-b27d-8d1eb41d4a25 button.colab-df-convert');\n",
              "      buttonEl.style.display =\n",
              "        google.colab.kernel.accessAllowed ? 'block' : 'none';\n",
              "\n",
              "      async function convertToInteractive(key) {\n",
              "        const element = document.querySelector('#df-d2e3c9f2-5687-40d5-b27d-8d1eb41d4a25');\n",
              "        const dataTable =\n",
              "          await google.colab.kernel.invokeFunction('convertToInteractive',\n",
              "                                                    [key], {});\n",
              "        if (!dataTable) return;\n",
              "\n",
              "        const docLinkHtml = 'Like what you see? Visit the ' +\n",
              "          '<a target=\"_blank\" href=https://colab.research.google.com/notebooks/data_table.ipynb>data table notebook</a>'\n",
              "          + ' to learn more about interactive tables.';\n",
              "        element.innerHTML = '';\n",
              "        dataTable['output_type'] = 'display_data';\n",
              "        await google.colab.output.renderOutput(dataTable, element);\n",
              "        const docLink = document.createElement('div');\n",
              "        docLink.innerHTML = docLinkHtml;\n",
              "        element.appendChild(docLink);\n",
              "      }\n",
              "    </script>\n",
              "  </div>\n",
              "\n",
              "\n",
              "<div id=\"df-7397a77f-dc3d-43b2-a6c5-ee8b1d03a542\">\n",
              "  <button class=\"colab-df-quickchart\" onclick=\"quickchart('df-7397a77f-dc3d-43b2-a6c5-ee8b1d03a542')\"\n",
              "            title=\"Suggest charts\"\n",
              "            style=\"display:none;\">\n",
              "\n",
              "<svg xmlns=\"http://www.w3.org/2000/svg\" height=\"24px\"viewBox=\"0 0 24 24\"\n",
              "     width=\"24px\">\n",
              "    <g>\n",
              "        <path d=\"M19 3H5c-1.1 0-2 .9-2 2v14c0 1.1.9 2 2 2h14c1.1 0 2-.9 2-2V5c0-1.1-.9-2-2-2zM9 17H7v-7h2v7zm4 0h-2V7h2v10zm4 0h-2v-4h2v4z\"/>\n",
              "    </g>\n",
              "</svg>\n",
              "  </button>\n",
              "\n",
              "<style>\n",
              "  .colab-df-quickchart {\n",
              "      --bg-color: #E8F0FE;\n",
              "      --fill-color: #1967D2;\n",
              "      --hover-bg-color: #E2EBFA;\n",
              "      --hover-fill-color: #174EA6;\n",
              "      --disabled-fill-color: #AAA;\n",
              "      --disabled-bg-color: #DDD;\n",
              "  }\n",
              "\n",
              "  [theme=dark] .colab-df-quickchart {\n",
              "      --bg-color: #3B4455;\n",
              "      --fill-color: #D2E3FC;\n",
              "      --hover-bg-color: #434B5C;\n",
              "      --hover-fill-color: #FFFFFF;\n",
              "      --disabled-bg-color: #3B4455;\n",
              "      --disabled-fill-color: #666;\n",
              "  }\n",
              "\n",
              "  .colab-df-quickchart {\n",
              "    background-color: var(--bg-color);\n",
              "    border: none;\n",
              "    border-radius: 50%;\n",
              "    cursor: pointer;\n",
              "    display: none;\n",
              "    fill: var(--fill-color);\n",
              "    height: 32px;\n",
              "    padding: 0;\n",
              "    width: 32px;\n",
              "  }\n",
              "\n",
              "  .colab-df-quickchart:hover {\n",
              "    background-color: var(--hover-bg-color);\n",
              "    box-shadow: 0 1px 2px rgba(60, 64, 67, 0.3), 0 1px 3px 1px rgba(60, 64, 67, 0.15);\n",
              "    fill: var(--button-hover-fill-color);\n",
              "  }\n",
              "\n",
              "  .colab-df-quickchart-complete:disabled,\n",
              "  .colab-df-quickchart-complete:disabled:hover {\n",
              "    background-color: var(--disabled-bg-color);\n",
              "    fill: var(--disabled-fill-color);\n",
              "    box-shadow: none;\n",
              "  }\n",
              "\n",
              "  .colab-df-spinner {\n",
              "    border: 2px solid var(--fill-color);\n",
              "    border-color: transparent;\n",
              "    border-bottom-color: var(--fill-color);\n",
              "    animation:\n",
              "      spin 1s steps(1) infinite;\n",
              "  }\n",
              "\n",
              "  @keyframes spin {\n",
              "    0% {\n",
              "      border-color: transparent;\n",
              "      border-bottom-color: var(--fill-color);\n",
              "      border-left-color: var(--fill-color);\n",
              "    }\n",
              "    20% {\n",
              "      border-color: transparent;\n",
              "      border-left-color: var(--fill-color);\n",
              "      border-top-color: var(--fill-color);\n",
              "    }\n",
              "    30% {\n",
              "      border-color: transparent;\n",
              "      border-left-color: var(--fill-color);\n",
              "      border-top-color: var(--fill-color);\n",
              "      border-right-color: var(--fill-color);\n",
              "    }\n",
              "    40% {\n",
              "      border-color: transparent;\n",
              "      border-right-color: var(--fill-color);\n",
              "      border-top-color: var(--fill-color);\n",
              "    }\n",
              "    60% {\n",
              "      border-color: transparent;\n",
              "      border-right-color: var(--fill-color);\n",
              "    }\n",
              "    80% {\n",
              "      border-color: transparent;\n",
              "      border-right-color: var(--fill-color);\n",
              "      border-bottom-color: var(--fill-color);\n",
              "    }\n",
              "    90% {\n",
              "      border-color: transparent;\n",
              "      border-bottom-color: var(--fill-color);\n",
              "    }\n",
              "  }\n",
              "</style>\n",
              "\n",
              "  <script>\n",
              "    async function quickchart(key) {\n",
              "      const quickchartButtonEl =\n",
              "        document.querySelector('#' + key + ' button');\n",
              "      quickchartButtonEl.disabled = true;  // To prevent multiple clicks.\n",
              "      quickchartButtonEl.classList.add('colab-df-spinner');\n",
              "      try {\n",
              "        const charts = await google.colab.kernel.invokeFunction(\n",
              "            'suggestCharts', [key], {});\n",
              "      } catch (error) {\n",
              "        console.error('Error during call to suggestCharts:', error);\n",
              "      }\n",
              "      quickchartButtonEl.classList.remove('colab-df-spinner');\n",
              "      quickchartButtonEl.classList.add('colab-df-quickchart-complete');\n",
              "    }\n",
              "    (() => {\n",
              "      let quickchartButtonEl =\n",
              "        document.querySelector('#df-7397a77f-dc3d-43b2-a6c5-ee8b1d03a542 button');\n",
              "      quickchartButtonEl.style.display =\n",
              "        google.colab.kernel.accessAllowed ? 'block' : 'none';\n",
              "    })();\n",
              "  </script>\n",
              "</div>\n",
              "\n",
              "  <div id=\"id_d1f5efeb-5c80-4ae4-b97f-307242c9bcee\">\n",
              "    <style>\n",
              "      .colab-df-generate {\n",
              "        background-color: #E8F0FE;\n",
              "        border: none;\n",
              "        border-radius: 50%;\n",
              "        cursor: pointer;\n",
              "        display: none;\n",
              "        fill: #1967D2;\n",
              "        height: 32px;\n",
              "        padding: 0 0 0 0;\n",
              "        width: 32px;\n",
              "      }\n",
              "\n",
              "      .colab-df-generate:hover {\n",
              "        background-color: #E2EBFA;\n",
              "        box-shadow: 0px 1px 2px rgba(60, 64, 67, 0.3), 0px 1px 3px 1px rgba(60, 64, 67, 0.15);\n",
              "        fill: #174EA6;\n",
              "      }\n",
              "\n",
              "      [theme=dark] .colab-df-generate {\n",
              "        background-color: #3B4455;\n",
              "        fill: #D2E3FC;\n",
              "      }\n",
              "\n",
              "      [theme=dark] .colab-df-generate:hover {\n",
              "        background-color: #434B5C;\n",
              "        box-shadow: 0px 1px 3px 1px rgba(0, 0, 0, 0.15);\n",
              "        filter: drop-shadow(0px 1px 2px rgba(0, 0, 0, 0.3));\n",
              "        fill: #FFFFFF;\n",
              "      }\n",
              "    </style>\n",
              "    <button class=\"colab-df-generate\" onclick=\"generateWithVariable('COVID_DATA')\"\n",
              "            title=\"Generate code using this dataframe.\"\n",
              "            style=\"display:none;\">\n",
              "\n",
              "  <svg xmlns=\"http://www.w3.org/2000/svg\" height=\"24px\"viewBox=\"0 0 24 24\"\n",
              "       width=\"24px\">\n",
              "    <path d=\"M7,19H8.4L18.45,9,17,7.55,7,17.6ZM5,21V16.75L18.45,3.32a2,2,0,0,1,2.83,0l1.4,1.43a1.91,1.91,0,0,1,.58,1.4,1.91,1.91,0,0,1-.58,1.4L9.25,21ZM18.45,9,17,7.55Zm-12,3A5.31,5.31,0,0,0,4.9,8.1,5.31,5.31,0,0,0,1,6.5,5.31,5.31,0,0,0,4.9,4.9,5.31,5.31,0,0,0,6.5,1,5.31,5.31,0,0,0,8.1,4.9,5.31,5.31,0,0,0,12,6.5,5.46,5.46,0,0,0,6.5,12Z\"/>\n",
              "  </svg>\n",
              "    </button>\n",
              "    <script>\n",
              "      (() => {\n",
              "      const buttonEl =\n",
              "        document.querySelector('#id_d1f5efeb-5c80-4ae4-b97f-307242c9bcee button.colab-df-generate');\n",
              "      buttonEl.style.display =\n",
              "        google.colab.kernel.accessAllowed ? 'block' : 'none';\n",
              "\n",
              "      buttonEl.onclick = () => {\n",
              "        google.colab.notebook.generateWithVariable('COVID_DATA');\n",
              "      }\n",
              "      })();\n",
              "    </script>\n",
              "  </div>\n",
              "\n",
              "    </div>\n",
              "  </div>\n"
            ],
            "application/vnd.google.colaboratory.intrinsic+json": {
              "type": "dataframe",
              "variable_name": "COVID_DATA",
              "summary": "{\n  \"name\": \"COVID_DATA\",\n  \"rows\": 70,\n  \"fields\": [\n    {\n      \"column\": \"age\",\n      \"properties\": {\n        \"dtype\": \"number\",\n        \"std\": 24.223780879588176,\n        \"min\": 10.0,\n        \"max\": 94.0,\n        \"num_unique_values\": 50,\n        \"samples\": [\n          29.0,\n          78.0,\n          53.0\n        ],\n        \"semantic_type\": \"\",\n        \"description\": \"\"\n      }\n    },\n    {\n      \"column\": \"body_temperature\",\n      \"properties\": {\n        \"dtype\": \"category\",\n        \"num_unique_values\": 3,\n        \"samples\": [\n          \"Normal\",\n          \"Moderate\",\n          \"High\"\n        ],\n        \"semantic_type\": \"\",\n        \"description\": \"\"\n      }\n    },\n    {\n      \"column\": \"chronic_disease\",\n      \"properties\": {\n        \"dtype\": \"category\",\n        \"num_unique_values\": 2,\n        \"samples\": [\n          \"yes\",\n          \"no\"\n        ],\n        \"semantic_type\": \"\",\n        \"description\": \"\"\n      }\n    },\n    {\n      \"column\": \"breathing_issue\",\n      \"properties\": {\n        \"dtype\": \"category\",\n        \"num_unique_values\": 2,\n        \"samples\": [\n          \"yes\",\n          \"no\"\n        ],\n        \"semantic_type\": \"\",\n        \"description\": \"\"\n      }\n    },\n    {\n      \"column\": \"Blood O2 Level in Percentage\",\n      \"properties\": {\n        \"dtype\": \"number\",\n        \"std\": 11.702587497416856,\n        \"min\": 53.0,\n        \"max\": 99.0,\n        \"num_unique_values\": 27,\n        \"samples\": [\n          86.0,\n          80.0\n        ],\n        \"semantic_type\": \"\",\n        \"description\": \"\"\n      }\n    },\n    {\n      \"column\": \"Needed Hospitalization\",\n      \"properties\": {\n        \"dtype\": \"category\",\n        \"num_unique_values\": 2,\n        \"samples\": [\n          \"Yes\",\n          \"No\"\n        ],\n        \"semantic_type\": \"\",\n        \"description\": \"\"\n      }\n    }\n  ]\n}"
            }
          },
          "metadata": {}
        }
      ]
    },
    {
      "cell_type": "code",
      "source": [
        "features = COVID_DATA.iloc[:, :-1].values # get all rows from first to last, using all columns except the last one\n",
        "labels = COVID_DATA.iloc[:, -1].values # get all rows from first to last, using only the last column"
      ],
      "metadata": {
        "id": "QHJhmFyL2w4c"
      },
      "execution_count": 4,
      "outputs": []
    },
    {
      "cell_type": "code",
      "source": [
        "display(features)"
      ],
      "metadata": {
        "colab": {
          "base_uri": "https://localhost:8080/",
          "height": 1000
        },
        "id": "QJRMkdh53BBa",
        "outputId": "8eb58f84-4307-4623-addd-033c8d707f90"
      },
      "execution_count": 5,
      "outputs": [
        {
          "output_type": "display_data",
          "data": {
            "text/plain": [
              "array([[10.0, 'Normal', 'no', 'no', 97.0],\n",
              "       [12.0, 'Normal', 'no', 'no', 97.0],\n",
              "       [15.0, 'Normal', 'no', 'no', 94.0],\n",
              "       [10.0, 'Normal', 'no', 'no', 97.0],\n",
              "       [13.0, 'Moderate', 'no', 'no', 94.0],\n",
              "       [12.0, 'Moderate', 'no', 'no', 97.0],\n",
              "       [13.0, 'Moderate', 'no', 'no', 93.0],\n",
              "       [15.0, 'Moderate', 'no', 'no', 92.0],\n",
              "       [18.0, 'Moderate', 'no', 'no', 66.0],\n",
              "       [19.0, 'Normal', 'no', 'no', 92.0],\n",
              "       [20.0, 'Normal', 'no', 'no', 93.0],\n",
              "       [17.0, 'Normal', 'no', 'no', 93.0],\n",
              "       [16.0, 'Normal', 'no', 'no', 92.0],\n",
              "       [18.0, 'Normal', 'no', 'no', 93.0],\n",
              "       [20.0, 'Normal', 'no', 'no', 92.0],\n",
              "       [25.0, 'Moderate', 'no', 'no', 93.0],\n",
              "       [24.0, 'Moderate', 'no', 'no', 92.0],\n",
              "       [26.0, 'High', 'no', 'no', 94.0],\n",
              "       [28.0, 'Normal', 'no', 'no', 99.0],\n",
              "       [29.0, 'Normal', 'no', 'no', 93.0],\n",
              "       [30.0, 'Moderate', 'no', 'no', 62.0],\n",
              "       [19.0, 'Normal', 'no', 'no', 89.0],\n",
              "       [25.0, 'Normal', 'no', 'yes', 86.0],\n",
              "       [26.0, 'Normal', 'no', 'no', nan],\n",
              "       [28.0, 'Normal', 'no', 'no', 89.0],\n",
              "       [30.0, 'Moderate', 'yes', 'no', 86.0],\n",
              "       [35.0, 'Moderate', 'no', 'no', 89.0],\n",
              "       [32.0, 'Moderate', 'no', 'yes', 84.0],\n",
              "       [nan, 'Moderate', 'yes', 'no', 90.0],\n",
              "       [32.0, 'Moderate', 'no', 'no', 89.0],\n",
              "       [35.0, 'Moderate', 'no', 'yes', 92.0],\n",
              "       [38.0, 'High', 'no', 'no', 75.0],\n",
              "       [40.0, 'Moderate', 'no', 'yes', 90.0],\n",
              "       [46.0, 'High', 'yes', 'no', 91.0],\n",
              "       [48.0, 'Moderate', 'no', 'yes', 93.0],\n",
              "       [42.0, 'High', 'no', 'no', 92.0],\n",
              "       [40.0, 'High', 'no', 'no', 92.0],\n",
              "       [49.0, 'Moderate', 'no', 'no', 80.0],\n",
              "       [50.0, 'High', 'yes', 'yes', 77.0],\n",
              "       [36.0, 'High', 'yes', 'no', 90.0],\n",
              "       [52.0, 'High', 'yes', 'yes', 80.0],\n",
              "       [56.0, 'High', 'yes', 'yes', 77.0],\n",
              "       [58.0, 'High', 'no', 'no', 70.0],\n",
              "       [59.0, 'High', 'no', 'yes', 69.0],\n",
              "       [60.0, 'High', 'yes', 'yes', 68.0],\n",
              "       [53.0, 'High', 'yes', 'no', 55.0],\n",
              "       [54.0, 'High', 'yes', 'yes', 70.0],\n",
              "       [62.0, 'High', 'yes', 'yes', 68.0],\n",
              "       [63.0, 'High', 'yes', 'yes', 66.0],\n",
              "       [68.0, 'High', 'yes', 'no', 67.0],\n",
              "       [69.0, 'High', 'no', 'yes', 53.0],\n",
              "       [64.0, 'High', 'yes', 'yes', 73.0],\n",
              "       [61.0, 'High', 'yes', 'yes', 76.0],\n",
              "       [70.0, 'Normal', 'no', 'yes', 88.0],\n",
              "       [59.0, 'High', 'yes', 'no', 68.0],\n",
              "       [62.0, 'High', 'yes', 'yes', 69.0],\n",
              "       [78.0, 'High', 'yes', 'yes', 71.0],\n",
              "       [74.0, 'High', 'yes', 'yes', 75.0],\n",
              "       [75.0, 'High', 'no', 'yes', 72.0],\n",
              "       [56.0, 'High', 'yes', 'no', 76.0],\n",
              "       [80.0, 'High', 'no', 'yes', 92.0],\n",
              "       [82.0, 'High', 'yes', 'yes', 73.0],\n",
              "       [86.0, 'High', 'yes', 'yes', 71.0],\n",
              "       [90.0, 'High', 'yes', 'yes', 67.0],\n",
              "       [84.0, 'High', 'yes', 'yes', 75.0],\n",
              "       [86.0, 'High', 'no', 'yes', 76.0],\n",
              "       [61.0, 'Moderate', 'no', 'yes', 90.0],\n",
              "       [94.0, 'High', 'yes', 'yes', 64.0],\n",
              "       [81.0, 'High', 'yes', 'yes', 75.0],\n",
              "       [76.0, 'High', 'yes', 'yes', 80.0]], dtype=object)"
            ]
          },
          "metadata": {}
        }
      ]
    },
    {
      "cell_type": "code",
      "source": [
        "display(labels)"
      ],
      "metadata": {
        "colab": {
          "base_uri": "https://localhost:8080/",
          "height": 156
        },
        "id": "VYiUCh_83Q_G",
        "outputId": "597f3e67-887d-4e16-bc3e-a2ca931ad0b8"
      },
      "execution_count": 6,
      "outputs": [
        {
          "output_type": "display_data",
          "data": {
            "text/plain": [
              "array(['No', 'No', 'No', 'No', 'No', 'No', 'No', 'No', 'Yes', 'No', 'No',\n",
              "       'No', 'No', 'No', 'No', 'No', 'No', 'No', 'No', 'No', 'Yes', 'No',\n",
              "       'No', 'No', 'No', 'No', 'No', 'No', 'No', 'No', 'No', 'Yes', 'No',\n",
              "       'No', 'No', 'No', 'No', 'Yes', 'Yes', 'No', 'Yes', 'Yes', 'Yes',\n",
              "       'Yes', 'Yes', 'Yes', 'Yes', 'Yes', 'Yes', 'Yes', 'Yes', 'Yes',\n",
              "       'Yes', 'No', 'Yes', 'Yes', 'Yes', 'Yes', 'Yes', 'Yes', 'No', 'Yes',\n",
              "       'Yes', 'Yes', 'Yes', 'Yes', 'No', 'Yes', 'Yes', 'Yes'],\n",
              "      dtype=object)"
            ]
          },
          "metadata": {}
        }
      ]
    },
    {
      "cell_type": "code",
      "source": [
        "for col in COVID_DATA.columns.values:\n",
        "  if (COVID_DATA[col].dtypes == 'int64' or COVID_DATA[col].dtypes == 'float64'):\n",
        "    # what we are doing is defining the number of bins for the variables. If the unique values are more than 20 than we take 10 bins of the data otherwise we plot it as it is\n",
        "    plt.hist(COVID_DATA[col],10 if len(pd.unique(COVID_DATA[col]))>20 else len(pd.unique(COVID_DATA[col])))\n",
        "    plt.xlabel(col)\n",
        "    plt.show()"
      ],
      "metadata": {
        "colab": {
          "base_uri": "https://localhost:8080/",
          "height": 884
        },
        "id": "IL7OfKfa7O5O",
        "outputId": "9e929bac-ffe9-420d-f531-0f11319e2b5f"
      },
      "execution_count": 7,
      "outputs": [
        {
          "output_type": "display_data",
          "data": {
            "text/plain": [
              "<Figure size 640x480 with 1 Axes>"
            ],
            "image/png": "[encoded data removed]"
          },
          "metadata": {}
        },
        {
          "output_type": "display_data",
          "data": {
            "text/plain": [
              "<Figure size 640x480 with 1 Axes>"
            ],
            "image/png": "[encoded data removed]"
          },
          "metadata": {}
        }
      ]
    },
    {
      "cell_type": "markdown",
      "source": [
        "# Handling missing data"
      ],
      "metadata": {
        "id": "7X_i8Lsg3X-P"
      }
    },
    {
      "cell_type": "code",
      "source": [
        "for col in COVID_DATA.columns.values: # For each column in COVID DATA\n",
        "  list_vals = pd.unique(COVID_DATA[col])    # Create a list of unique values\n",
        "  print(col + ' is of type ' + str(COVID_DATA[col].dtypes) + ', has ' + str(len(list_vals)) + ' unique values, and ' + str(np.sum(pd.isnull(COVID_DATA[col]))) + ' null entries')\n",
        "  if len(list_vals) < 10: # If the column has less than 10 unique values then print them\n",
        "    list_str = ''\n",
        "    for n_value in range(0,len(list_vals)):\n",
        "      list_str = list_str + str(list_vals[n_value]) + ', '\n",
        "    print('  These are: '+list_str[0:len(list_str)-2])"
      ],
      "metadata": {
        "colab": {
          "base_uri": "https://localhost:8080/"
        },
        "id": "6_MW4_qu3Zzd",
        "outputId": "530518d3-c869-4d27-e5ce-322ecb679baa"
      },
      "execution_count": 8,
      "outputs": [
        {
          "output_type": "stream",
          "name": "stdout",
          "text": [
            "age is of type float64, has 51 unique values, and 1 null entries\n",
            "body_temperature is of type object, has 3 unique values, and 0 null entries\n",
            "  These are: Normal, Moderate, High\n",
            "chronic_disease is of type object, has 2 unique values, and 0 null entries\n",
            "  These are: no, yes\n",
            "breathing_issue is of type object, has 2 unique values, and 0 null entries\n",
            "  These are: no, yes\n",
            "Blood O2 Level in Percentage is of type float64, has 28 unique values, and 1 null entries\n",
            "Needed Hospitalization is of type object, has 2 unique values, and 0 null entries\n",
            "  These are: No, Yes\n"
          ]
        }
      ]
    },
    {
      "cell_type": "markdown",
      "source": [
        "### Observations:\n",
        "---\n",
        "- Categorical Data: `body_temperature`, `chronic_disease` and `breathing_issue`\n",
        "- There is one null entry in `age` and in `Blood O2 Level`"
      ],
      "metadata": {
        "id": "ZFIdk56g4Z_X"
      }
    },
    {
      "cell_type": "code",
      "source": [
        "COVID_DATA.dropna(inplace = True) # drop all rows with null entries"
      ],
      "metadata": {
        "id": "sawHpcf-4Rob"
      },
      "execution_count": 9,
      "outputs": []
    },
    {
      "cell_type": "code",
      "source": [
        "for col in COVID_DATA.columns.values: # For each column in COVID DATA\n",
        "  list_vals = pd.unique(COVID_DATA[col])    # Create a list of unique values\n",
        "  print(col + ' is of type ' + str(COVID_DATA[col].dtypes) + ', has ' + str(len(list_vals)) + ' unique values, and ' + str(np.sum(pd.isnull(COVID_DATA[col]))) + ' null entries')\n",
        "  if len(list_vals) < 10: # If the column has less than 10 unique values then print them\n",
        "    list_str = ''\n",
        "    for n_value in range(0,len(list_vals)):\n",
        "      list_str = list_str + str(list_vals[n_value]) + ', '\n",
        "    print('  These are: '+list_str[0:len(list_str)-2])"
      ],
      "metadata": {
        "colab": {
          "base_uri": "https://localhost:8080/"
        },
        "id": "iFBZN0OD46ss",
        "outputId": "64495837-432b-4338-bd19-f876c1ea6d25"
      },
      "execution_count": 10,
      "outputs": [
        {
          "output_type": "stream",
          "name": "stdout",
          "text": [
            "age is of type float64, has 50 unique values, and 0 null entries\n",
            "body_temperature is of type object, has 3 unique values, and 0 null entries\n",
            "  These are: Normal, Moderate, High\n",
            "chronic_disease is of type object, has 2 unique values, and 0 null entries\n",
            "  These are: no, yes\n",
            "breathing_issue is of type object, has 2 unique values, and 0 null entries\n",
            "  These are: no, yes\n",
            "Blood O2 Level in Percentage is of type float64, has 27 unique values, and 0 null entries\n",
            "Needed Hospitalization is of type object, has 2 unique values, and 0 null entries\n",
            "  These are: No, Yes\n"
          ]
        }
      ]
    },
    {
      "cell_type": "markdown",
      "source": [
        "No more null entries!"
      ],
      "metadata": {
        "id": "OcibL91j49ZR"
      }
    },
    {
      "cell_type": "markdown",
      "source": [
        "# Encoding categorical data"
      ],
      "metadata": {
        "id": "SK_39DGX6IQ1"
      }
    },
    {
      "cell_type": "code",
      "source": [
        "from sklearn.compose import ColumnTransformer\n",
        "from sklearn.preprocessing import OneHotEncoder\n",
        "\n",
        "ct = ColumnTransformer(transformers=[('encoder',OneHotEncoder(), [1])], remainder= 'passthrough')\n",
        "features = np.array(ct.fit_transform(features))\n",
        "print(features)"
      ],
      "metadata": {
        "colab": {
          "base_uri": "https://localhost:8080/"
        },
        "id": "ScUE2BQeFIzV",
        "outputId": "250468c9-699a-452c-c065-421f6ee6c2a8"
      },
      "execution_count": 11,
      "outputs": [
        {
          "output_type": "stream",
          "name": "stdout",
          "text": [
            "[[0.0 0.0 1.0 10.0 'no' 'no' 97.0]\n",
            " [0.0 0.0 1.0 12.0 'no' 'no' 97.0]\n",
            " [0.0 0.0 1.0 15.0 'no' 'no' 94.0]\n",
            " [0.0 0.0 1.0 10.0 'no' 'no' 97.0]\n",
            " [0.0 1.0 0.0 13.0 'no' 'no' 94.0]\n",
            " [0.0 1.0 0.0 12.0 'no' 'no' 97.0]\n",
            " [0.0 1.0 0.0 13.0 'no' 'no' 93.0]\n",
            " [0.0 1.0 0.0 15.0 'no' 'no' 92.0]\n",
            " [0.0 1.0 0.0 18.0 'no' 'no' 66.0]\n",
            " [0.0 0.0 1.0 19.0 'no' 'no' 92.0]\n",
            " [0.0 0.0 1.0 20.0 'no' 'no' 93.0]\n",
            " [0.0 0.0 1.0 17.0 'no' 'no' 93.0]\n",
            " [0.0 0.0 1.0 16.0 'no' 'no' 92.0]\n",
            " [0.0 0.0 1.0 18.0 'no' 'no' 93.0]\n",
            " [0.0 0.0 1.0 20.0 'no' 'no' 92.0]\n",
            " [0.0 1.0 0.0 25.0 'no' 'no' 93.0]\n",
            " [0.0 1.0 0.0 24.0 'no' 'no' 92.0]\n",
            " [1.0 0.0 0.0 26.0 'no' 'no' 94.0]\n",
            " [0.0 0.0 1.0 28.0 'no' 'no' 99.0]\n",
            " [0.0 0.0 1.0 29.0 'no' 'no' 93.0]\n",
            " [0.0 1.0 0.0 30.0 'no' 'no' 62.0]\n",
            " [0.0 0.0 1.0 19.0 'no' 'no' 89.0]\n",
            " [0.0 0.0 1.0 25.0 'no' 'yes' 86.0]\n",
            " [0.0 0.0 1.0 26.0 'no' 'no' nan]\n",
            " [0.0 0.0 1.0 28.0 'no' 'no' 89.0]\n",
            " [0.0 1.0 0.0 30.0 'yes' 'no' 86.0]\n",
            " [0.0 1.0 0.0 35.0 'no' 'no' 89.0]\n",
            " [0.0 1.0 0.0 32.0 'no' 'yes' 84.0]\n",
            " [0.0 1.0 0.0 nan 'yes' 'no' 90.0]\n",
            " [0.0 1.0 0.0 32.0 'no' 'no' 89.0]\n",
            " [0.0 1.0 0.0 35.0 'no' 'yes' 92.0]\n",
            " [1.0 0.0 0.0 38.0 'no' 'no' 75.0]\n",
            " [0.0 1.0 0.0 40.0 'no' 'yes' 90.0]\n",
            " [1.0 0.0 0.0 46.0 'yes' 'no' 91.0]\n",
            " [0.0 1.0 0.0 48.0 'no' 'yes' 93.0]\n",
            " [1.0 0.0 0.0 42.0 'no' 'no' 92.0]\n",
            " [1.0 0.0 0.0 40.0 'no' 'no' 92.0]\n",
            " [0.0 1.0 0.0 49.0 'no' 'no' 80.0]\n",
            " [1.0 0.0 0.0 50.0 'yes' 'yes' 77.0]\n",
            " [1.0 0.0 0.0 36.0 'yes' 'no' 90.0]\n",
            " [1.0 0.0 0.0 52.0 'yes' 'yes' 80.0]\n",
            " [1.0 0.0 0.0 56.0 'yes' 'yes' 77.0]\n",
            " [1.0 0.0 0.0 58.0 'no' 'no' 70.0]\n",
            " [1.0 0.0 0.0 59.0 'no' 'yes' 69.0]\n",
            " [1.0 0.0 0.0 60.0 'yes' 'yes' 68.0]\n",
            " [1.0 0.0 0.0 53.0 'yes' 'no' 55.0]\n",
            " [1.0 0.0 0.0 54.0 'yes' 'yes' 70.0]\n",
            " [1.0 0.0 0.0 62.0 'yes' 'yes' 68.0]\n",
            " [1.0 0.0 0.0 63.0 'yes' 'yes' 66.0]\n",
            " [1.0 0.0 0.0 68.0 'yes' 'no' 67.0]\n",
            " [1.0 0.0 0.0 69.0 'no' 'yes' 53.0]\n",
            " [1.0 0.0 0.0 64.0 'yes' 'yes' 73.0]\n",
            " [1.0 0.0 0.0 61.0 'yes' 'yes' 76.0]\n",
            " [0.0 0.0 1.0 70.0 'no' 'yes' 88.0]\n",
            " [1.0 0.0 0.0 59.0 'yes' 'no' 68.0]\n",
            " [1.0 0.0 0.0 62.0 'yes' 'yes' 69.0]\n",
            " [1.0 0.0 0.0 78.0 'yes' 'yes' 71.0]\n",
            " [1.0 0.0 0.0 74.0 'yes' 'yes' 75.0]\n",
            " [1.0 0.0 0.0 75.0 'no' 'yes' 72.0]\n",
            " [1.0 0.0 0.0 56.0 'yes' 'no' 76.0]\n",
            " [1.0 0.0 0.0 80.0 'no' 'yes' 92.0]\n",
            " [1.0 0.0 0.0 82.0 'yes' 'yes' 73.0]\n",
            " [1.0 0.0 0.0 86.0 'yes' 'yes' 71.0]\n",
            " [1.0 0.0 0.0 90.0 'yes' 'yes' 67.0]\n",
            " [1.0 0.0 0.0 84.0 'yes' 'yes' 75.0]\n",
            " [1.0 0.0 0.0 86.0 'no' 'yes' 76.0]\n",
            " [0.0 1.0 0.0 61.0 'no' 'yes' 90.0]\n",
            " [1.0 0.0 0.0 94.0 'yes' 'yes' 64.0]\n",
            " [1.0 0.0 0.0 81.0 'yes' 'yes' 75.0]\n",
            " [1.0 0.0 0.0 76.0 'yes' 'yes' 80.0]]\n"
          ]
        }
      ]
    },
    {
      "cell_type": "code",
      "source": [],
      "metadata": {
        "id": "QDmuc7cyFkVq"
      },
      "execution_count": null,
      "outputs": []
    },
    {
      "cell_type": "markdown",
      "source": [
        "### Encoding Dependent Variables"
      ],
      "metadata": {
        "id": "TgDk56XTFccv"
      }
    },
    {
      "cell_type": "code",
      "source": [
        "from sklearn.preprocessing import LabelEncoder\n",
        "le = LabelEncoder()\n",
        "labels = le.fit_transform(labels)\n",
        "print(labels)"
      ],
      "metadata": {
        "colab": {
          "base_uri": "https://localhost:8080/"
        },
        "id": "BtK1tjGnFe2o",
        "outputId": "7c570fee-285a-41d6-b493-822b461f62ce"
      },
      "execution_count": 12,
      "outputs": [
        {
          "output_type": "stream",
          "name": "stdout",
          "text": [
            "[0 0 0 0 0 0 0 0 1 0 0 0 0 0 0 0 0 0 0 0 1 0 0 0 0 0 0 0 0 0 0 1 0 0 0 0 0\n",
            " 1 1 0 1 1 1 1 1 1 1 1 1 1 1 1 1 0 1 1 1 1 1 1 0 1 1 1 1 1 0 1 1 1]\n"
          ]
        }
      ]
    },
    {
      "cell_type": "markdown",
      "source": [
        "### Splitting Data"
      ],
      "metadata": {
        "id": "I33TuUuCFnJ_"
      }
    },
    {
      "cell_type": "code",
      "source": [
        "from sklearn.model_selection import train_test_split\n",
        "X_train, X_test, y_train, y_test = train_test_split(features, labels, test_size = 0.25, random_state = 22) # doing a 75-25 split\n",
        "print(f'X_train: {X_train.shape}, X_test: {X_test.shape}, y_train: {y_train.shape}, y_test: {y_test.shape}')"
      ],
      "metadata": {
        "colab": {
          "base_uri": "https://localhost:8080/"
        },
        "id": "8il86C8WFjs8",
        "outputId": "0e2a1cee-c8b5-4b6f-ab4d-3ea325fb8599"
      },
      "execution_count": 13,
      "outputs": [
        {
          "output_type": "stream",
          "name": "stdout",
          "text": [
            "X_train: (52, 7), X_test: (18, 7), y_train: (52,), y_test: (18,)\n"
          ]
        }
      ]
    },
    {
      "cell_type": "markdown",
      "source": [
        "### Feature Scaling"
      ],
      "metadata": {
        "id": "9oAWyj6dF5Bm"
      }
    },
    {
      "cell_type": "code",
      "source": [
        "from sklearn.preprocessing import StandardScaler\n",
        "sc = StandardScaler()\n",
        "X_train[:, 6:] = sc.fit_transform(X_train[:, 6:])\n",
        "X_test[:, 6:] = sc.fit_transform(X_test[:, 6:])\n",
        "print(X_train)"
      ],
      "metadata": {
        "colab": {
          "base_uri": "https://localhost:8080/"
        },
        "id": "5SFeVhwbF1a1",
        "outputId": "eb03a807-0c67-445d-e071-085b55149fe6"
      },
      "execution_count": 14,
      "outputs": [
        {
          "output_type": "stream",
          "name": "stdout",
          "text": [
            "[[0.0 0.0 1.0 10.0 'no' 'no' 1.2092765967000088]\n",
            " [1.0 0.0 0.0 54.0 'yes' 'yes' -1.116385238014951]\n",
            " [1.0 0.0 0.0 69.0 'no' 'yes' -2.580690837650296]\n",
            " [0.0 0.0 1.0 19.0 'no' 'no' 0.7785984791602014]\n",
            " [1.0 0.0 0.0 82.0 'yes' 'yes' -0.8579783674910666]\n",
            " [0.0 0.0 1.0 16.0 'no' 'no' 0.7785984791602014]\n",
            " [0.0 0.0 1.0 19.0 'no' 'no' 0.520191608636317]\n",
            " [0.0 1.0 0.0 40.0 'no' 'yes' 0.6063272321442784]\n",
            " [0.0 1.0 0.0 24.0 'no' 'no' 0.7785984791602014]\n",
            " [0.0 1.0 0.0 30.0 'yes' 'no' 0.2617847381124325]\n",
            " [0.0 1.0 0.0 35.0 'no' 'no' 0.520191608636317]\n",
            " [1.0 0.0 0.0 59.0 'no' 'yes' -1.2025208615229126]\n",
            " [0.0 1.0 0.0 49.0 'no' 'no' -0.2550290029353363]\n",
            " [0.0 1.0 0.0 25.0 'no' 'no' 0.8647341026681629]\n",
            " [0.0 0.0 1.0 12.0 'no' 'no' 1.2092765967000088]\n",
            " [1.0 0.0 0.0 40.0 'no' 'no' 0.7785984791602014]\n",
            " [0.0 0.0 1.0 18.0 'no' 'no' 0.8647341026681629]\n",
            " [0.0 1.0 0.0 35.0 'no' 'yes' 0.7785984791602014]\n",
            " [0.0 0.0 1.0 17.0 'no' 'no' 0.8647341026681629]\n",
            " [1.0 0.0 0.0 86.0 'yes' 'yes' -1.0302496145069895]\n",
            " [0.0 0.0 1.0 26.0 'no' 'no' nan]\n",
            " [1.0 0.0 0.0 78.0 'yes' 'yes' -1.0302496145069895]\n",
            " [0.0 1.0 0.0 15.0 'no' 'no' 0.7785984791602014]\n",
            " [1.0 0.0 0.0 64.0 'yes' 'yes' -0.8579783674910666]\n",
            " [0.0 0.0 1.0 15.0 'no' 'no' 0.9508697261761243]\n",
            " [1.0 0.0 0.0 81.0 'yes' 'yes' -0.6857071204751437]\n",
            " [0.0 0.0 1.0 29.0 'no' 'no' 0.8647341026681629]\n",
            " [1.0 0.0 0.0 50.0 'yes' 'yes' -0.5134358734592207]\n",
            " [1.0 0.0 0.0 26.0 'no' 'no' 0.9508697261761243]\n",
            " [1.0 0.0 0.0 86.0 'no' 'yes' -0.5995714969671823]\n",
            " [1.0 0.0 0.0 56.0 'yes' 'no' -0.5995714969671823]\n",
            " [1.0 0.0 0.0 74.0 'yes' 'yes' -0.6857071204751437]\n",
            " [0.0 1.0 0.0 30.0 'no' 'no' -1.8054702260786428]\n",
            " [0.0 1.0 0.0 32.0 'no' 'yes' 0.08951349109650958]\n",
            " [1.0 0.0 0.0 62.0 'yes' 'yes' -1.288656485030874]\n",
            " [0.0 1.0 0.0 12.0 'no' 'no' 1.2092765967000088]\n",
            " [1.0 0.0 0.0 52.0 'yes' 'yes' -0.2550290029353363]\n",
            " [0.0 1.0 0.0 61.0 'no' 'yes' 0.6063272321442784]\n",
            " [1.0 0.0 0.0 56.0 'yes' 'yes' -0.5134358734592207]\n",
            " [0.0 1.0 0.0 48.0 'no' 'yes' 0.8647341026681629]\n",
            " [1.0 0.0 0.0 36.0 'yes' 'no' 0.6063272321442784]\n",
            " [0.0 1.0 0.0 32.0 'no' 'no' 0.520191608636317]\n",
            " [1.0 0.0 0.0 75.0 'no' 'yes' -0.9441139909990282]\n",
            " [0.0 0.0 1.0 28.0 'no' 'no' 0.520191608636317]\n",
            " [1.0 0.0 0.0 53.0 'yes' 'no' -2.4084195906343733]\n",
            " [1.0 0.0 0.0 80.0 'no' 'yes' 0.7785984791602014]\n",
            " [0.0 0.0 1.0 20.0 'no' 'no' 0.7785984791602014]\n",
            " [0.0 0.0 1.0 28.0 'no' 'no' 1.3815478437159316]\n",
            " [0.0 1.0 0.0 18.0 'no' 'no' -1.460927732046797]\n",
            " [1.0 0.0 0.0 84.0 'yes' 'yes' -0.6857071204751437]\n",
            " [1.0 0.0 0.0 60.0 'yes' 'yes' -1.288656485030874]\n",
            " [0.0 1.0 0.0 13.0 'no' 'no' 0.9508697261761243]]\n"
          ]
        }
      ]
    }
  ]
}